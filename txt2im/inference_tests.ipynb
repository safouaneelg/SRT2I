{
 "cells": [
  {
   "cell_type": "markdown",
   "metadata": {},
   "source": [
    "### Inference with customized model"
   ]
  },
  {
   "cell_type": "markdown",
   "metadata": {},
   "source": [
    "requires the execution of *./diffusers/examples/text_to_image/0_myscript.sh first*"
   ]
  },
  {
   "cell_type": "code",
   "execution_count": null,
   "metadata": {},
   "outputs": [],
   "source": [
    "from diffusers import StableDiffusionPipeline\n",
    "import torch\n",
    "\n",
    "model_path = \"./diffusers/examples/text_to_image/sd-pokemon-model\"\n",
    "pipe = StableDiffusionPipeline.from_pretrained(model_path, torch_dtype=torch.float16)\n",
    "pipe.to(\"cuda\")\n",
    "\n",
    "image = pipe(prompt=\"yoda\").images[0]\n",
    "image.save(\"./diffusers/examples/text_to_image/yoda-pokemon.png\")"
   ]
  },
  {
   "cell_type": "code",
   "execution_count": null,
   "metadata": {},
   "outputs": [],
   "source": [
    "image"
   ]
  },
  {
   "cell_type": "code",
   "execution_count": null,
   "metadata": {},
   "outputs": [],
   "source": [
    "image = pipe(prompt=\"yoda in a garden\").images[0]\n",
    "image"
   ]
  },
  {
   "cell_type": "code",
   "execution_count": null,
   "metadata": {},
   "outputs": [],
   "source": [
    "pipe1 = StableDiffusionPipeline.from_pretrained(\"stabilityai/stable-diffusion-2-1-base\", torch_dtype=torch.float16)\n",
    "pipe1.to(\"cuda\")\n",
    "image1 = pipe1(prompt=\"Yoda in a garden\").images[0]"
   ]
  },
  {
   "cell_type": "code",
   "execution_count": null,
   "metadata": {},
   "outputs": [],
   "source": [
    "image1"
   ]
  },
  {
   "cell_type": "markdown",
   "metadata": {},
   "source": [
    "### Custom dataset preparation"
   ]
  },
  {
   "cell_type": "markdown",
   "metadata": {},
   "source": [
    "What datasets format looks like"
   ]
  },
  {
   "cell_type": "code",
   "execution_count": null,
   "metadata": {},
   "outputs": [],
   "source": [
    "from datasets import load_dataset\n",
    "dataset = load_dataset(\"lambdalabs/pokemon-blip-captions\")\n",
    "dataset['train'][0]"
   ]
  },
  {
   "cell_type": "markdown",
   "metadata": {},
   "source": [
    "Using flick8r:  \n",
    "https://www.kaggle.com/datasets/aladdinpersson/flickr8kimagescaptions  \n",
    "Renamed the flickr8k to images_folder/train  \n",
    "\n",
    "Converting the annotations from txt to json:   \n"
   ]
  },
  {
   "cell_type": "code",
   "execution_count": null,
   "metadata": {},
   "outputs": [],
   "source": [
    "import json\n",
    "\n",
    "def txt_to_json(input_file, output_file):\n",
    "    with open(input_file, 'r') as file:\n",
    "        # Skip the first line\n",
    "        next(file)\n",
    "        \n",
    "        with open(output_file, 'w') as json_file:\n",
    "            for line in file:\n",
    "                image_path, description = line.strip().split(',', 1)\n",
    "                description = description.replace(\"\\\"\", \"\").strip()\n",
    "                data = {\"file_name\": image_path, \"text\": description}\n",
    "                \n",
    "                # Write each entry as a separate JSON object\n",
    "                json.dump(data, json_file)\n",
    "                json_file.write('\\n')  # Add a newline between entries\n",
    "\n",
    "txt_to_json('./diffusers/examples/text_to_image/images_folder/train/captions.txt', 'txt2im/diffusers/examples/text_to_image/images_folder/train/metadata.jsonl')\n"
   ]
  },
  {
   "cell_type": "code",
   "execution_count": null,
   "metadata": {},
   "outputs": [],
   "source": [
    "dataset = load_dataset(\"images_folder\", data_dir=\"train/\", split=\"train\", data_files=\"metadata.jsonl\")\n",
    "dataset[0]"
   ]
  },
  {
   "cell_type": "markdown",
   "metadata": {},
   "source": [
    "### Inference with customized model trained on custom data\n",
    "requires the execution of *./diffusers/examples/text_to_image/1_custom_ds.sh first*"
   ]
  },
  {
   "cell_type": "code",
   "execution_count": null,
   "metadata": {},
   "outputs": [],
   "source": [
    "from diffusers import StableDiffusionPipeline\n",
    "import torch\n",
    "\n",
    "model_path = \"txt2im/diffusers/examples/text_to_image/sd-flickr-model\"\n",
    "pipe = StableDiffusionPipeline.from_pretrained(model_path, torch_dtype=torch.float16)\n",
    "pipe.to(\"cuda\")\n",
    "\n",
    "image = pipe(prompt=\"yoda\").images[0]\n",
    "image.save(\"yoda-flickr.png\")\n",
    "image"
   ]
  },
  {
   "cell_type": "code",
   "execution_count": null,
   "metadata": {},
   "outputs": [],
   "source": []
  }
 ],
 "metadata": {
  "kernelspec": {
   "display_name": "srt2i",
   "language": "python",
   "name": "python3"
  },
  "language_info": {
   "codemirror_mode": {
    "name": "ipython",
    "version": 3
   },
   "file_extension": ".py",
   "mimetype": "text/x-python",
   "name": "python",
   "nbconvert_exporter": "python",
   "pygments_lexer": "ipython3",
   "version": "3.9.18"
  }
 },
 "nbformat": 4,
 "nbformat_minor": 2
}
