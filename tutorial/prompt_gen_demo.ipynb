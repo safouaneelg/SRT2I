{
 "cells": [
  {
   "cell_type": "markdown",
   "metadata": {},
   "source": [
    "# DEMO: Diffusion prompts Generator\n",
    "\n",
    "This notebook is a demonstrator of the generated prompts. It uses code from the `llm/prompts_generator.py`."
   ]
  },
  {
   "cell_type": "markdown",
   "metadata": {},
   "source": [
    "### Libraries"
   ]
  },
  {
   "cell_type": "code",
   "execution_count": 1,
   "metadata": {},
   "outputs": [
    {
     "name": "stderr",
     "output_type": "stream",
     "text": [
      "/home/safouane/miniconda3/envs/srt2i/lib/python3.10/site-packages/tqdm/auto.py:21: TqdmWarning: IProgress not found. Please update jupyter and ipywidgets. See https://ipywidgets.readthedocs.io/en/stable/user_install.html\n",
      "  from .autonotebook import tqdm as notebook_tqdm\n"
     ]
    }
   ],
   "source": [
    "from transformers import AutoModelForCausalLM, AutoTokenizer, TextStreamer\n",
    "import json\n",
    "import random"
   ]
  },
  {
   "cell_type": "code",
   "execution_count": 2,
   "metadata": {},
   "outputs": [],
   "source": [
    "import sys\n",
    "sys.path.append('..')\n",
    "from llm.prompts_generator import load_model"
   ]
  },
  {
   "cell_type": "markdown",
   "metadata": {},
   "source": [
    "### Model and tokenizer loader"
   ]
  },
  {
   "cell_type": "code",
   "execution_count": 3,
   "metadata": {},
   "outputs": [],
   "source": [
    "model_name_or_path = \"TheBloke/Mistral-7B-Instruct-v0.2-AWQ\"\n",
    "model, tokenizer = load_model(model_name_or_path)\n"
   ]
  },
  {
   "cell_type": "markdown",
   "metadata": {},
   "source": [
    "### Load class list as input of the prompts"
   ]
  },
  {
   "cell_type": "code",
   "execution_count": 4,
   "metadata": {},
   "outputs": [],
   "source": [
    "# Load class list\n",
    "with open('../llm/class_list.json', 'r') as file:\n",
    "    class_list = json.load(file)"
   ]
  },
  {
   "cell_type": "markdown",
   "metadata": {},
   "source": [
    "### Set seed for reproducibility\n",
    "42 is moslty used as seed number and considered as the lucky number. "
   ]
  },
  {
   "cell_type": "code",
   "execution_count": 5,
   "metadata": {},
   "outputs": [],
   "source": [
    "seed = 42\n",
    "random.seed(seed)"
   ]
  },
  {
   "cell_type": "markdown",
   "metadata": {},
   "source": [
    "### Let's configuration the LLM model for the prompts generation"
   ]
  },
  {
   "cell_type": "code",
   "execution_count": 20,
   "metadata": {},
   "outputs": [],
   "source": [
    "# Initialize the prompt template and tokenizer\n",
    "prompt = \"\"\n",
    "prompt_template=f'''{prompt}'''\n",
    "\n",
    "tokens = tokenizer(\n",
    "    prompt_template,\n",
    "    return_tensors='pt'\n",
    ").input_ids.cuda()\n",
    "\n",
    "# Same as the \"self-rewarding language models\" paper\n",
    "generation_params = {\n",
    "    \"do_sample\": True,\n",
    "    \"temperature\": 0.7,\n",
    "    \"top_p\": 0.95,\n",
    "    \"top_k\": 40,\n",
    "    \"max_new_tokens\": 512*8,\n",
    "    \"repetition_penalty\": 1.1\n",
    "}\n",
    "\n",
    "# Using the text streamer to stream output one token at a time\n",
    "streamer = TextStreamer(tokenizer, skip_prompt=True, skip_special_tokens=True)\n",
    "\n",
    "# SYSTEM_PROMPT to instruct the model on specificities\n",
    "SYSTEM_PROMPT = \"<s>[SYS] Generate very detailed scene description prompts for a text-to-image stable diffusion generative model. Focus on the specified class, give specific details of the scene with very comprehensive scene context description, describe the finest detail and avoid additional information, notes, suggestions and discussions. Only use the enumeration format when listing and no other format: 1. 2. 3. 4. 5. 6. 7. 8. 9. 10.[/SYS]\"\n"
   ]
  },
  {
   "cell_type": "markdown",
   "metadata": {},
   "source": [
    "### Random selection of 4 classes for the test"
   ]
  },
  {
   "cell_type": "code",
   "execution_count": 21,
   "metadata": {},
   "outputs": [
    {
     "data": {
      "text/plain": [
       "['donut', 'knife', 'baseball glove', 'tv']"
      ]
     },
     "execution_count": 21,
     "metadata": {},
     "output_type": "execute_result"
    }
   ],
   "source": [
    "# Shuffle the classes to pick them randomly\n",
    "class_keys = list(class_list.keys())\n",
    "random.shuffle(class_keys)\n",
    "\n",
    "selected_classes_keys = random.sample(class_keys, 4)\n",
    "\n",
    "# Get the class names based on the selected keys\n",
    "selected_classes = [class_list[class_key] for class_key in selected_classes_keys]\n",
    "\n",
    "selected_classes"
   ]
  },
  {
   "cell_type": "markdown",
   "metadata": {},
   "source": [
    "5 prompts generation per selected class"
   ]
  },
  {
   "cell_type": "code",
   "execution_count": 22,
   "metadata": {},
   "outputs": [
    {
     "name": "stdout",
     "output_type": "stream",
     "text": [
      "\n",
      "donut\n",
      "\n",
      "1. A vibrant pink donut sits atop a pristine white marble countertop, its glossy surface reflecting the warm light from the overhead kitchen lights. The countertop is clutter-free, save for a few folded dish towels and an open cookbook. The donut shop's logo, a playful cartoon donut, is visible above the counter.\n",
      "\n",
      "2. A lone blueberry donut floats gracefully in mid-air, suspended by an invisible hand. A soft, pastel sky filled with fluffy clouds stretches behind it, as if painted in watercolors. A gentle breeze ruffles the petals of a nearby rose bush, and a small bird perches on a branch, eyeing the tempting treat wistfully.\n",
      "\n",
      "3. On a rustic wooden table, a plate holds six jelly donuts of varying flavors: strawberry, chocolate, vanilla, maple, powdered sugar, and glazed. Each donut is artfully arranged next to its corresponding label, which reads the name of the filling in elegant cursive script. A sunny window lets in golden sunlight, casting warm shadows on the tabletop.\n",
      "\n",
      "4. In the center of a quaint bakery, a golden donut spins slowly on a glass turntable. The mouth-watering aroma fills the room, mingling with the scent of freshly brewed coffee and baking bread. The walls are adorned with vintage posters advertising classic American desserts, and a barista stands behind the counter, ready to serve a customer.\n",
      "\n",
      "5. Amidst a lush green forest, a wooden picnic basket rests near the base of a tree. Inside, two red velvet donuts sit snugly amongst fruit, sandwiches, and cold drinks. A gentle breeze rustles through the leaves, and sunlight filters through the canopy, casting dappled patterns on the ground.\n",
      "\n",
      "6. An array of nine frosted donuts, each topped with sprinkles in various colors and shapes, sits on a colorful plastic tray. The donuts are displayed at a farmer's market, surrounded by the sights, sounds, and smells of ripe fruits, fresh flowers, and chatter amongst vendors and patrons.\n",
      "\n",
      "7. At the edge of a serene pond, a single raised donut rests atop a weathered dock, its glaze forming ripples on the water's surface. Ducks swim lazily around the pond, their reflections shimmering in the tranquil water. The sun sets gently behind the trees, bathing the scene in a golden hue.\n",
      "\n",
      "8. A stack of twelve doughnut holes sits on a paper plate, next to a steaming cup of coffee. The scene takes place in a cozy living room, with soft lighting filtering in through the windows and a roaring fire crackling in the hearth. An old record plays softly in the background, creating a peaceful atmosphere.\n",
      "\n",
      "9. A snow-covered park bench hosts a solitary red velvet donut, surrounded by a blanket of fresh snow. Trees line the path leading up to the bench, their branches heavy with snow. In the distance, a couple walks hand in hand, leaving footprints in the snow.\n",
      "\n",
      "10. A cluster of five glazed donuts rests on a silver platter, set against the backdrop of a bustling city street. Cars pass by outside, their headlights casting dancing reflections on the plate. Street performers play instruments in the distance, adding to the cacophony of sounds. A neon sign advertising \"Hot Donuts Now\" hangs overhead, beckoning customers.\n",
      "\n",
      "knife\n",
      "\n",
      "1. A sharp, silver hunting knife is lying on a worn, brown leather hunting vest, hanging over the back of an old wooden chair in a dimly lit cabin. The room is filled with the scent of pine and damp earth. Sunlight filters through the dusty windows, casting long shadows across the room. A deer head mount hangs on the wall behind the chair, its antlers adorned with fading feathers.\n",
      "\n",
      "2. A rustic kitchen scene: A well-used, black-handled chef's knife rests atop a red checkered tablecloth, amidst a pile of fresh produce - vibrant green bell peppers, ripe tomatoes, and golden onions. The sunlight streams in through the window, illuminating the crisp, white tiled floor and the wooden countertop. A large, cast iron pot simmers on the stove, filling the air with the aroma of homemade soup.\n",
      "\n",
      "3. In the midst of a serene Japanese garden, a sleek, stainless steel, razor-sharp kitchen knife gleams amongst the lush greenery. Cherry blossom petals gently flutter around it in the breeze, their pink hues contrasting against the cool metal. A stone lantern nearby flickers softly, casting a warm glow on the intricate patterns etched into the blade.\n",
      "\n",
      "4. Nestled within an ancient stone altar, surrounded by flickering candles, lies a ceremonial dagger, its obsidian handle glistening in the dim light. The altar is situated deep within a dark cave, dripping with water from stalactites above. The walls are adorned with intricate carvings depicting mythological figures and ancient rituals.\n",
      "\n",
      "5. On a polished, mahogany dining table sits a set of six knives, each one carefully arranged next to a plate of steaming hot sushi. The room is bathed in soft, ambient lighting, and the air is thick with the scent of wasabi and soy sauce. In the background, a shoji screen depicts a tranquil lake surrounded by cherry blossoms.\n",
      "\n",
      "6. Amidst the cluttered, chaotic scene of a blacksmith’s workshop, a large, iron-bound butcher's knife stands out. Glowing embers from the forge cast an orange glow on its dulled surface, while sparks fly around it as the blacksmith hammers away nearby. Dirt covers the floor, and tools lie scattered around the space.\n",
      "\n",
      "7. A shiny, curved ceramic knife lays atop a pristine white marble countertop, reflected perfectly in a small pond filled with still water. The room is brightly lit, with sunbeams pouring in through large glass doors that open onto a balcony overlooking a lush, manicured garden. Roses of every color bloom around the edges, and birds sing melodiously in the trees.\n",
      "\n",
      "8. In the heart of a bustling outdoor market, a merchant sells various types of knives: a serrated bread knife, a delicate paring knife, and a broad cleaver. Each knife rests atop a colorful cloth, among piles of fresh fruits and vegetables. Surrounding the scene are the vivid smells of spices, the sounds of bargaining, and the colorful chaos of shoppers milling about.\n",
      "\n",
      "9. A well-worn camping knife, with a wooden handle, rests atop a bedroll near a roaring campfire. The night sky is clear and starry, revealing constellations like Orion and Ursa Major. The sound of crickets can be heard in the background, accompanied by the gentle crackle of the fire.\n",
      "\n",
      "10. In the center of a sleek, modern kitchen, a minimalist, matte black knife block holds a collection of sharp knives: a utility knife, a paring knife, and a large chef's knife. The room is brightly lit, with clean lines and stainless steel appliances reflecting off the walls. The countertop, uncluttered save for the knife block, gleams under the fluorescent lights, and a pot of boiling pasta bubbles on the stove.\n",
      "\n",
      "baseball glove\n",
      "\n",
      "1. A pristine white baseball mitt rests on the freshly cut grass in the center of an empty baseball diamond. The sun casts long, golden shadows across the emerald field as a light breeze rustles the leaves of nearby trees. The mitt's leather is smooth and supple, its fingers perfectly curved and waiting for a ball to be snared within their grasp. The stitching is crisp and even, and the lacing shines in the dappled sunlight.\n",
      "\n",
      "2. Amidst the cluttered toolshed of a dilapidated baseball stadium, a worn red baseball glove lies forgotten. Dusty cobwebs cling to its exterior, while age spots dot its faded surface. Old newspaper clippings and baseball cards peek out from beneath its frayed edges. The glove's leather is cracked and dry, its laces frayed and tangled.\n",
      "\n",
      "3. Perched atop a weathered wooden fence post, a blue baseball glove stands sentinel overlooking a bustling high school baseball field. The afternoon sun bathes the scene in warm hues, casting vibrant reflections off the metal chain link fence and the glossy surfaces of the players' helmets below. The glove's design features intricate white stitching and bold team logos, a testament to its owner's pride.\n",
      "\n",
      "4. In the dimly lit confines of a smoky old bar, a battered black baseball glove sits on the counter next to a mug of frothy beer. The room is filled with the acrid smell of tobacco and the low hum of conversations between grizzled baseball veterans. The glove's scuffed surface tells tales of countless games and hard-fought victories, while its worn lacing creaks softly with each movement.\n",
      "\n",
      "5. On the edge of a sandy beach, a brown baseball glove lies half-buried in the sand, awaiting the arrival of the next player. Waves crash gently against the shoreline, leaving behind patterns in the wet sand. Seagulls cry overhead, and the scent of salty air mingles with that of fresh baseball leather. The glove's exterior is covered in grains of sand and small seashells, giving it a unique, organic texture.\n",
      "\n",
      "6. Nestled among the verdant foliage of a tranquil forest clearing, a green baseball glove lies hidden, camouflaged by its surroundings. The dappled sunlight filters through the canopy above, casting dazzling patterns on the glove's surface. Autumn leaves drift lazily to the ground, settling gently around the glove, which seems almost alive amidst the quiet forest scene.\n",
      "\n",
      "7. Inside a dimly lit, smoke-filled locker room, a yellowed baseball glove leans against a metal bench, surrounded by discarded pads, helmets, and dirty uniforms. The room is filled with the pungent aroma of sweat and disinfectant, a stark reminder of the physical demands of the game. The glove's leather is soft and pliable, its lacing worn and threadbare, reflecting the passage of time.\n",
      "\n",
      "8. Atop a pristine white table in a museum display case, a pristine grey baseball glove gleams under the harsh fluorescent lights. Visitors lean in to examine the intricately designed artifact, marveling at the stitching, the lacing, and the seemingly immaculate condition of the leather. The glove is a relic of a bygone era, a symbol of the rich history of the sport.\n",
      "\n",
      "9. In the middle of a bustling city park, a multicolored baseball glove sits atop a concrete bench. Children play and laugh nearby, their voices mingling with the sound of passing traffic and distant sirens. The glove's bright colors stand out against the drab urban backdrop, and its smooth, untarnished surface bears no signs of wear or tear. It waits patiently for a young hand to pick it up and begin a new adventure.\n",
      "\n",
      "10. Basking in the glow of a roaring bonfire, a russet baseball glove lies nestled among the embers, its rich tones deepening in the flickering light. Crickets chirp in the background, and the scent of marshmallows roasting on sticks fills the air. The firelight highlights the roughness of the glove's surface, revealing the texture of every stitch and crease. The scene is one of warmth, nostalgia, and the simple joys of summer nights spent playing baseball.\n",
      "\n",
      "tv\n",
      "\n",
      "1. A living room scene: A large, flat-screen TV set is mounted on the wall, facing the couch. The TV displays a vibrant advertisement for a new car model. A remote control lies on the coffee table, next to an empty popcorn bowl. The room is bathed in warm, ambient light from floor lamps and table lamps. The walls are painted in soothing shades of beige, adorned with abstract art pieces. A bookshelf is located in the corner, filled with books, DVDs, and trinkets.\n",
      "\n",
      "2. A high-tech home theater: A massive curved TV screen dominates the space, displaying the opening credits of a sci-fi movie. The room is dimly lit, with red and blue accents from the LED strip lights around the edge of the room. Surround sound speakers are mounted on the walls and ceiling, wires neatly concealed. A leather recliner faces the TV, with a glass of red wine and a box of gourmet popcorn nearby. A sleek, metal control console is located under the TV.\n",
      "\n",
      "3. An outdoor BBQ party: A 32-inch portable TV sits atop a foldable table, surrounded by friends and family members gathered around it. The TV displays live sports coverage as they cheer and clap in excitement. In the background, you can see a grill sizzling, burgers and hotdogs cooking, plates piled with side dishes, and coolers full of drinks. Sunset hues color the sky, casting a golden glow over the scene.\n",
      "\n",
      "4. A retro diner setting: A vintage CRT TV stands on a wooden countertop, showing an old black-and-white sitcom. The room is illuminated by neon signs from the jukebox and the classic diner sign outside. Formica booths line the walls, each with a checkered pattern and a red vinyl seat. A waitress in a pencil skirt and apron walks by, carrying a tray of milkshakes. Ketchup bottles, mustard jars, and saltshakers are on every table.\n",
      "\n",
      "5. A child's bedroom: A small, round TV sits on a wooden nightstand, displaying a cartoon character's show. The room is decorated in primary colors - blue, red, and yellow. Posters of superheroes cover the walls, a toy chest brims with action figures, and a quilted blanket covers the bed. A teddy bear rests on the pillow, and a stack of comic books sits next to the TV remote.\n",
      "\n",
      "6. A busy newsroom: A large TV monitor displays breaking news headlines and world map updates. Desks are cluttered with papers, laptops, and pens. Journalists huddle around the TV, typing away at their keyboards. The scene is bustling with activity, with cameras rolling and people shouting into microphones. One journalist holds up a notepad and pen, another points at the TV, and a third takes a sip of coffee.\n",
      "\n",
      "7. A cozy study: A plasma TV hangs on the wall, displaying a historical documentary. Leather armchair, a large oak desk, and shelves of books surround the area. Wooden blinds are drawn to filter in natural light. There's a fireplace crackling in the background, and a pipe rack is on the mantelpiece. A bookshelf is filled with volumes on history, philosophy, and literature.\n",
      "\n",
      "8. A modern office setup: A sleek, flat-screen TV is attached to a wall, displaying stock market tickers. A professional-looking workspace consists of a standing desk, ergonomic chair, and a whiteboard behind the desk. A MacBook Pro, keyboard, and mouse sit on the desk. A calendar hanging on the wall shows important dates and deadlines. The room is brightly lit, with large windows offering views of a cityscape.\n",
      "\n",
      "9. A hospital waiting room: A small, old TV is propped up on a plastic table, broadcasting a soap opera. The room is sterile and cold, with linoleum floors and gray walls. People sit nervously on uncomfortable chairs, staring at their phones or glancing at the TV every now and then. Some magazines lie scattered on a low table in one corner. A nurse calls out names through an intercom, occasionally.\n",
      "\n",
      "10. A gaming den: A massive, curved TV screen displays a first-person shooter game. Red and green hues fill the room as explosions and gunfire occur on screen. Gamers sit on gaming chairs, some wearing headsets and controller in hand, fully immersed in the virtual world. A snack bar is set up on a coffee table, with chips, energy drinks, and pizza boxes surrounding it. The walls are adorned with posters of popular games and teams.\n"
     ]
    }
   ],
   "source": [
    "for class_id in selected_classes_keys:\n",
    "    class_name = class_list[class_id]\n",
    "\n",
    "    # Combine SYSTEM_PROMPT and class-specific prompt\n",
    "    prompt = f\"{SYSTEM_PROMPT}<s>[INST] Give 10 distinct, long, very descriptive and very detailed prompts for a text-to-image diffusion model focusing mainly on: {class_name}. The {class_name} should be the main focus and element of the scene, very clear and easy to see and locate. The prompts should be exaustive in different cases, object numbers, scenarios, positions and orientations. Details of the background, the colors, the observed objects in the scene should also be given in a very exhaustive manner.[/INST]\"\n",
    "\n",
    "    tokens = tokenizer(\n",
    "        prompt,\n",
    "        return_tensors='pt'\n",
    "    ).input_ids.cuda()\n",
    "\n",
    "    print('\\n' + class_name + '\\n')\n",
    "    generation_output = model.generate(\n",
    "        tokens,\n",
    "        pad_token_id=tokenizer.eos_token_id,\n",
    "        streamer=streamer,\n",
    "        **generation_params\n",
    "    )"
   ]
  },
  {
   "cell_type": "code",
   "execution_count": null,
   "metadata": {},
   "outputs": [],
   "source": []
  }
 ],
 "metadata": {
  "kernelspec": {
   "display_name": "srt2i",
   "language": "python",
   "name": "python3"
  },
  "language_info": {
   "codemirror_mode": {
    "name": "ipython",
    "version": 3
   },
   "file_extension": ".py",
   "mimetype": "text/x-python",
   "name": "python",
   "nbconvert_exporter": "python",
   "pygments_lexer": "ipython3",
   "version": "3.10.13"
  }
 },
 "nbformat": 4,
 "nbformat_minor": 2
}
