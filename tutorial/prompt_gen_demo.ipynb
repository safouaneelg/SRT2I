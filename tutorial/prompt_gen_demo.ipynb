{
 "cells": [
  {
   "cell_type": "markdown",
   "metadata": {},
   "source": [
    "# DEMO: Diffusion prompts Generator\n",
    "\n",
    "This notebook is a demonstrator of the generated prompts. It uses code from the `llm/prompts_generator.py`."
   ]
  },
  {
   "cell_type": "markdown",
   "metadata": {},
   "source": [
    "### Libraries"
   ]
  },
  {
   "cell_type": "code",
   "execution_count": 1,
   "metadata": {},
   "outputs": [],
   "source": [
    "from transformers import AutoModelForCausalLM, AutoTokenizer, TextStreamer\n",
    "import json\n",
    "import random"
   ]
  },
  {
   "cell_type": "code",
   "execution_count": 2,
   "metadata": {},
   "outputs": [],
   "source": [
    "import sys\n",
    "sys.path.append('..')\n",
    "from llm.prompts_generator import load_model"
   ]
  },
  {
   "cell_type": "markdown",
   "metadata": {},
   "source": [
    "### Model and tokenizer loader"
   ]
  },
  {
   "cell_type": "code",
   "execution_count": 3,
   "metadata": {},
   "outputs": [],
   "source": [
    "model_name_or_path = \"TheBloke/Mistral-7B-Instruct-v0.2-AWQ\"\n",
    "model, tokenizer = load_model(model_name_or_path)\n"
   ]
  },
  {
   "cell_type": "markdown",
   "metadata": {},
   "source": [
    "### Load class list as input of the prompts"
   ]
  },
  {
   "cell_type": "code",
   "execution_count": 4,
   "metadata": {},
   "outputs": [],
   "source": [
    "# Load class list\n",
    "with open('../llm/class_list.json', 'r') as file:\n",
    "    class_list = json.load(file)"
   ]
  },
  {
   "cell_type": "markdown",
   "metadata": {},
   "source": [
    "### Set seed for reproducibility\n",
    "42 is moslty used as seed number and considered as the lucky number. "
   ]
  },
  {
   "cell_type": "code",
   "execution_count": 5,
   "metadata": {},
   "outputs": [],
   "source": [
    "seed = 42\n",
    "random.seed(seed)"
   ]
  },
  {
   "cell_type": "markdown",
   "metadata": {},
   "source": [
    "### Let's configuration the LLM model for the prompts generation"
   ]
  },
  {
   "cell_type": "code",
   "execution_count": 6,
   "metadata": {},
   "outputs": [],
   "source": [
    "# Initialize the prompt template and tokenizer\n",
    "prompt = \"\"\n",
    "prompt_template=f'''{prompt}'''\n",
    "\n",
    "tokens = tokenizer(\n",
    "    prompt_template,\n",
    "    return_tensors='pt'\n",
    ").input_ids.cuda()\n",
    "\n",
    "# Same as the \"self-rewarding language models\" paper\n",
    "generation_params = {\n",
    "    \"do_sample\": True,\n",
    "    \"temperature\": 0.7,\n",
    "    \"top_p\": 0.95,\n",
    "    \"top_k\": 40,\n",
    "    \"max_new_tokens\": 512*8,\n",
    "    \"repetition_penalty\": 1.1\n",
    "}\n",
    "\n",
    "# Using the text streamer to stream output one token at a time\n",
    "streamer = TextStreamer(tokenizer, skip_prompt=True, skip_special_tokens=True)\n",
    "\n",
    "# SYSTEM_PROMPT to instruct the model on specificities\n",
    "SYSTEM_PROMPT = \"<s>[SYS] Generate very detailed scene description prompts for a text-to-image stable diffusion generative model. Focus on the specified class, give specific details of the scene with very comprehensive scene context description, describe the finest detail and avoid additional information, notes, suggestions and discussions. Only use the enumeration format when listing and no other format: 1. 2. 3. 4. 5. 6. 7. 8. 9. 10.[/SYS]\"\n"
   ]
  },
  {
   "cell_type": "markdown",
   "metadata": {},
   "source": [
    "### Random selection of 4 classes for the test"
   ]
  },
  {
   "cell_type": "code",
   "execution_count": 7,
   "metadata": {},
   "outputs": [
    {
     "data": {
      "text/plain": [
       "['hair drier', 'truck', 'toaster', 'cup']"
      ]
     },
     "execution_count": 7,
     "metadata": {},
     "output_type": "execute_result"
    }
   ],
   "source": [
    "# Shuffle the classes to pick them randomly\n",
    "class_keys = list(class_list.keys())\n",
    "random.shuffle(class_keys)\n",
    "\n",
    "selected_classes_keys = random.sample(class_keys, 4)\n",
    "\n",
    "# Get the class names based on the selected keys\n",
    "selected_classes = [class_list[class_key] for class_key in selected_classes_keys]\n",
    "\n",
    "selected_classes"
   ]
  },
  {
   "cell_type": "markdown",
   "metadata": {},
   "source": [
    "5 prompts generation per selected class"
   ]
  },
  {
   "cell_type": "code",
   "execution_count": 8,
   "metadata": {},
   "outputs": [
    {
     "name": "stdout",
     "output_type": "stream",
     "text": [
      "\n",
      "hair drier\n",
      "\n",
      "1. A vibrant red kitchen, dominated by a glossy chrome hairdryer resting atop a marble countertop. The counter is cluttered with various cosmetics - a pink toothbrush stand, a bottle of shampoo, and a tub of body lotion. A blue striped towel is draped over the backless barstool, adding a pop of color against the white subway tile backsplash. A window behind the sink lets in soft sunlight, casting warm shadows over the room.\n",
      "\n",
      "2. A bathroom scene, with a sleek silver hairdryer positioned on a porcelain shelf above an oversized bathtub. Steam rises from the tub, filling the air with a comforting aroma of lavender bath salts. A handheld mirror leans against the tiled wall, reflecting the steamy room and the hairdryer's metallic sheen. A small wooden stool is placed next to the tub, covered in a fluffy white bathrobe.\n",
      "\n",
      "3. In a dimly lit dressing room, a hot pink hairdryer sits atop a plush velvet vanity chair. The room is adorned with ornate gold mirrors on the walls, and a large antique full-length mirror reflects the scene. An array of makeup brushes, perfume bottles, and a vintage hairbrush are neatly arranged on the vanity table. A vintage hatbox sits nearby, filled with scarves, hats, and gloves.\n",
      "\n",
      "4. Inside a salon, a powerful black industrial hairdryer hangs from the ceiling, suspended by a metal chain. The floor is covered in blue and white checkered tiles. Stylists move about, attending to clients seated in chairs along the perimeter of the room. Scissors, combs, and other styling tools are scattered across the counter. A large wall mirror shows reflections of the stylists working on their clients' hair.\n",
      "\n",
      "5. On a cluttered balcony overlooking a cityscape, a compact turquoise hairdryer lies on a worn wooden table. Surrounding the table are various potted plants, some in bloom, others wilted. A pair of sunglasses rests on the table beside the hairdryer, and a sunhat lies crumpled in the corner. The sun sets behind tall buildings, casting long shadows over the balcony.\n",
      "\n",
      "6. In a quaint bedroom, a retro pink hairdryer sits atop a wooden dresser, surrounded by various trinkets – a framed photograph, a small vase of flowers, and a collection of seashells. Sunlight filters through the open window, illuminating the room. A floral patterned duvet covers the bed, and a wicker basket filled with books sits in the corner.\n",
      "\n",
      "7. At the poolside, a bright yellow hairdryer is nestled among towels and pool toys on a lounge chair. Palm trees sway gently in the breeze, and crystal-clear water sparkles under the bright sunlight. A tropical drink in a glass with a tiny umbrella rests on the table beside the chair. A beach towel lies crumpled on the sand, nearby.\n",
      "\n",
      "8. Inside a dorm room, a matte black hairdryer is perched on a mini fridge. Posters cover the walls – one of a favorite band, another of a travel destination. A desk holds various school supplies, a computer, and a stack of textbooks. A corkboard displays pictures of friends, and a calendar hangs above the desk, marked with important dates and appointments.\n",
      "\n",
      "9. In a cluttered garage, a weathered blue hairdryer sits on a workbench, surrounded by tools and auto parts. Dusty shelves hold jars of screws, bolts, and other hardware. A bicycle leans against one wall, while a motorcycle takes up most of the space. Old tires and car parts are strewn about, giving the impression of a well-used workshop.\n",
      "\n",
      "10. In a modern living room, a sleek silver hairdryer sits atop a minimalist console table. A large flatscreen TV dominates the wall opposite, displaying a nature documentary. A gray sofa faces the TV, covered in a plush throw blanket. A floor lamp casts a soft glow over the room, and a small potted plant sits on the windowsill, its leaves reaching towards the light.\n",
      "\n",
      "truck\n",
      "\n",
      "1. A red semi-truck is parked in an open desert landscape, its cab facing north. The sun is setting behind the truck, casting long shadows over the sandy terrain. The truck's bed is empty, and its tires are caked with dust. The truck's company logo is visible on the side of the cab, along with reflective stripes running down the length of the vehicle.\n",
      "\n",
      "2. A yellow flatbed truck is positioned at the edge of a dense forest, its cargo bay filled with large wooden logs. The tree trunks around it are covered in thick foliage, and the ground is blanketed in fallen leaves. A small stream runs nearby, and the reflection of the truck in the water shows its every detail.\n",
      "\n",
      "3. An old blue pickup truck is sitting in the middle of a bustling city street, surrounded by tall buildings and cars. The truck's hood is slightly raised, revealing the engine. Pedestrians walk past, some stopping to look at the truck, while cars honk as they pass. The sky overhead is grey, indicating an imminent rainstorm.\n",
      "\n",
      "4. A black firetruck is racing through a suburban neighborhood, its sirens blaring. Smoke rises from a house in the distance, and the truck's ladder is extended. Firefighters in protective gear are seen climbing the ladder, while others prepare hoses. The sun is setting behind the smoke, casting an orange glow on the scene.\n",
      "\n",
      "5. A green delivery truck is parked outside a supermarket, its back doors open and unloading dock doors behind it. Pallets of various goods are being unloaded, and workers are busy moving boxes onto the truck and into the store. The truck's logos and branding are clearly visible on the sides.\n",
      "\n",
      "6. A white refrigerated truck is traveling along a winding mountain road, its cargo hold humming with cold air. Snow covers the ground and trees, and the truck's tires crunch against the ice. A sign on the side of the truck reads \"Fresh Produce,\" and the driver can be seen wearing a woolen hat and gloves.\n",
      "\n",
      "7. A silver tanker truck is stationed at an oil refinery, its massive fuel tanks connected to pipes leading into the facility. Smoke stacks release plumes of steam and smoke into the sky, and the sun sets behind the refinery, bathing the scene in a reddish glow. The truck's logos and branding are visible on the sides.\n",
      "\n",
      "8. A purple camper truck is parked at the edge of a lake, its roof adorned with solar panels. The driver is sitting inside, fishing rod in hand. A small boat is tied up next to the truck, and a campfire crackles nearby. The sun is rising, casting long, golden rays over the water.\n",
      "\n",
      "9. A pink milk truck is making its rounds in a rural area, passing by barns and farmland. Cows graze in the fields, and chickens cluck in their coops. The truck's tank is full, and milk cans sit on the back, ready to be emptied into the storage tanks at the farms.\n",
      "\n",
      "10. A grey military truck is driving through a desert environment, its cargo bay filled with soldiers and supplies. Sand dunes surround the truck, and the sun beats down mercilessly. The truck's antennae are extended, and weapons are visible on the soldiers. A map is spread out on the hood, as the team plans their next move.\n",
      "\n",
      "toaster\n",
      "\n",
      "1. A sunlit kitchen scene: A toaster, with its classic metallic design and two slots, sits atop a sleek white countertop. The cord is coiled neatly beneath it. A fresh loaf of artisan bread peeks out from a woven basket next to it. The red dial reads \"4\", indicating that the toast is almost ready. Steam rises gently from the slots, mingling with the aroma of toasting bread.\n",
      "\n",
      "2. Breakfast nook: A wooden toaster, adorned with quirky cartoon characters, sits on a rustic table nestled by a large bay window. A plate with golden butter and a steaming mug of coffee are nearby. Sunlight filters through the curtains, casting warm shadows over the scene. The toast pops up, perfectly browned, and lands with a satisfying clunk on the extended lever.\n",
      "\n",
      "3. Modern kitchen: A silver toaster with digital controls is positioned against a backdrop of stainless steel appliances and gleaming white cabinets. The countertop is clutter-free, save for a few utensils and an empty plate. The toaster's LCD screen displays \"Toast - 2 slices, 3 minutes\". A slice of whole grain bread is inserted into the slots, and the toaster hums softly as it begins toasting.\n",
      "\n",
      "4. Camping adventure: Nestled in the heart of a forest clearing, a compact toaster sits atop a portable camping stove. Surrounded by the lush greenery, the toaster contrasts the natural setting with its modern form. A pan of water boils on the stove, and a loaf of bread hangs from a tree branch overhead. Once the toast is ready, it's spread with homemade strawberry jam and savored among friends around a crackling campfire.\n",
      "\n",
      "5. Rustic cottage: An antique toaster, complete with knobs and dials, is situated on a worn wooden table in a cozy country cottage kitchen. A bowl of fresh fruit sits beside it, and a kettle whistles on the wood-burning stove. The toaster is covered in a light layer of dust and its enamel shows signs of wear. A slice of crusty bread is inserted, filling the room with the comforting smell of toasted bread.\n",
      "\n",
      "6. Diner diner: A vintage toaster, featuring chrome and neon accents, occupies a prime spot on the countertop of a retro diner. The surrounding jukebox plays a steady rhythm, and a waitress wipes down the counter with a polished towel. The toaster's lever is pushed down, and the iconic \"Pop\" sound rings out as perfect slices of white bread emerge, ready to be smothered in butter or jelly.\n",
      "\n",
      "7. Apartment kitchenette: A compact toaster, designed for small spaces, is perched precariously on a minuscule countertop in a studio apartment kitchenette. A muffin tin rests next to it, filled with mini blueberry muffins waiting to be baked. The toaster's power cord snakes across the counter, plugging into a multi-outlet strip. As the toast pops up, the occupant reaches over to apply a thin layer of honey.\n",
      "\n",
      "8. Picnic setup: A portable toaster, wrapped in insulated fabric, sits atop a blanket in a scenic park setting. A basket of various fruits and an array of jams are laid out, along with a glass of iced lemonade. The scene is completed by a checked picnic blanket and a sunny sky with fluffy clouds. The toast is spread with raspberry jam and shared amongst family members, enjoying their outdoor meal.\n",
      "\n",
      "9. Hospital cafeteria: A commercial toaster, designed for high volume usage, dominates the countertop in a bustling hospital cafeteria. Steel trays filled with slices of bread move along a conveyor belt, being toasted one after another. The scene is completed by the sounds of clanging pots and pans, busy chefs, and the general hubbub of activity.\n",
      "\n",
      "10. Space station: In a zero gravity environment, a toaster, modified for space travel, floats in the center of a compact kitchenette aboard a space station. The toaster's control panel illuminates with holographic displays, displaying options like \"astronaut bread\" and \"zero-G toast settings.\" A floating tray holds two slices of astronaut food, ready to be warmed. As the toast finishes, an alert sounds, signaling it's time for a quick bite before resuming space exploration duties.\n",
      "\n",
      "cup\n",
      "\n",
      "1. A pristine white porcelain cup, sitting alone on a wooden table, against the backdrop of a sunlit kitchen. The yellow sunlight streams in through a window, casting a warm glow on the cup's smooth surface. Rays of sunlight dance across the room, illuminating dust particles in the air. The kitchen is adorned with modern stainless steel appliances, a red tile floor, and stone countertops.\n",
      "\n",
      "2. Three matching blue mugs and a single white ceramic cup sit atop an old, worn wooden table in a dimly lit, cozy study. Books line the shelves behind the table, their spines worn from years of use. A fire crackles in the hearth, casting long, dancing shadows on the walls. The room smells of burning wood and leather-bound books.\n",
      "\n",
      "3. A steaming hot black coffee cup sits precariously on the edge of a granite countertop. The rich aroma of freshly brewed coffee wafts through the air as steam rises from the cup's surface. Behind it, the sleek and modern kitchen is bathed in soft morning light filtering in through large glass windows. The stainless steel appliances gleam, reflecting the sunlight.\n",
      "\n",
      "4. An antique golden teacup and saucer, decorated with intricate floral designs, rests on a delicate lace doily on a Victorian tea table. The tea table is situated in the corner of a grand parlor, with high ceilings, ornate moldings, and large bay windows that let in plenty of natural light. The walls are covered in rich, red velvet fabric, and the room is filled with the sound of a piano playing softly in the background.\n",
      "\n",
      "5. A rustic enamel camping cup sits in the center of a picnic blanket spread out on a grassy knoll. Surrounding it are various food containers, including a Tupperware box, a brown paper bag, and a checkered lunchbox. In the distance, the trees sway gently in the breeze, and a clear blue sky stretches overhead. The warmth of the sun beats down on the scene, casting long shadows.\n",
      "\n",
      "6. Four red plastic cups, each with a straw sticking out, are arranged in a circle on a green plastic patio table. The scene takes place in a vibrant backyard, filled with colorful flowers and lush greenery. A barbecue grill sizzles in the background, and children's laughter can be heard in the distance. The sun sets in the background, casting a warm orange glow over the scene.\n",
      "\n",
      "7. An industrial stainless steel thermos bottle rests on a metal desk in a dimly lit laboratory. The room is filled with rows of beakers, test tubes, and scientific equipment. The air is thick with the smell of chemicals, and papers covered in equations and diagrams are scattered around the desk. The thermos holds a dark liquid, which is slowly beginning to heat up, indicated by small condensation beads forming on its surface.\n",
      "\n",
      "8. A simple, round glass water cup sits on a worn, red plastic tray in a hospital room. The room is sterile and cold, with white walls and bright fluorescent lighting. Machines beep and hum in the background, and the faint scent of antiseptic fills the air. Through the window, patients can be seen walking in the courtyard, enjoying the sunny day outside.\n",
      "\n",
      "9. A crystal clear glass cup filled with icy lemonade sits on a marble table, surrounded by a cluster of colorful fruit: sliced lemons, strawberries, and kiwi. The scene takes place in a luxurious garden, filled with lush vegetation, a bubbling fountain, and the sound of birds singing in the background. The sun shines down, creating dappled patterns of sunlight on the table.\n",
      "\n",
      "10. A futuristic silver ceramic cup floats in mid-air, suspended by an invisible force, above a gleaming white lab bench. The lab is filled with advanced technology and holographic displays. The air is thick with the hum of machinery, and the room temperature hovers around freezing. Cryogenically frozen specimens can be seen in the background, encased in tubes of liquid nitrogen.\n"
     ]
    }
   ],
   "source": [
    "for class_id in selected_classes_keys:\n",
    "    class_name = class_list[class_id]\n",
    "\n",
    "    # Combine SYSTEM_PROMPT and class-specific prompt\n",
    "    prompt = f\"{SYSTEM_PROMPT}<s>[INST] Give 10 distinct, long, very descriptive and very detailed prompts for a text-to-image diffusion model focusing mainly on: {class_name}. The {class_name} should be the main focus and element of the scene, very clear and easy to see and locate. The prompts should be exaustive in different cases, object numbers, scenarios, positions and orientations. Details of the background, the colors, the observed objects in the scene should also be given in a very exhaustive manner.[/INST]\"\n",
    "\n",
    "    tokens = tokenizer(\n",
    "        prompt,\n",
    "        return_tensors='pt'\n",
    "    ).input_ids.cuda()\n",
    "\n",
    "    print('\\n' + class_name + '\\n')\n",
    "    generation_output = model.generate(\n",
    "        tokens,\n",
    "        pad_token_id=tokenizer.eos_token_id,\n",
    "        streamer=streamer,\n",
    "        **generation_params\n",
    "    )"
   ]
  },
  {
   "cell_type": "code",
   "execution_count": null,
   "metadata": {},
   "outputs": [],
   "source": []
  }
 ],
 "metadata": {
  "kernelspec": {
   "display_name": "srt2i",
   "language": "python",
   "name": "python3"
  },
  "language_info": {
   "codemirror_mode": {
    "name": "ipython",
    "version": 3
   },
   "file_extension": ".py",
   "mimetype": "text/x-python",
   "name": "python",
   "nbconvert_exporter": "python",
   "pygments_lexer": "ipython3",
   "version": "3.9.18"
  }
 },
 "nbformat": 4,
 "nbformat_minor": 2
}
