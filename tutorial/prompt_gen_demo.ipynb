{
 "cells": [
  {
   "cell_type": "markdown",
   "metadata": {},
   "source": [
    "# DEMO: Diffusion prompts Generator\n",
    "\n",
    "This notebook is a demonstrator of the generated prompts. It uses code from the `llm/prompts_generator.py`."
   ]
  },
  {
   "cell_type": "markdown",
   "metadata": {},
   "source": [
    "### Libraries"
   ]
  },
  {
   "cell_type": "code",
   "execution_count": 3,
   "metadata": {},
   "outputs": [],
   "source": [
    "from transformers import AutoModelForCausalLM, AutoTokenizer, TextStreamer\n",
    "import json\n",
    "import random"
   ]
  },
  {
   "cell_type": "code",
   "execution_count": 6,
   "metadata": {},
   "outputs": [],
   "source": [
    "import sys\n",
    "sys.path.append('..')\n",
    "from llm.prompts_generator import load_model"
   ]
  },
  {
   "cell_type": "markdown",
   "metadata": {},
   "source": [
    "### Model and tokenizer loader"
   ]
  },
  {
   "cell_type": "code",
   "execution_count": 7,
   "metadata": {},
   "outputs": [],
   "source": [
    "model_name_or_path = \"TheBloke/Mistral-7B-Instruct-v0.2-AWQ\"\n",
    "model, tokenizer = load_model(model_name_or_path)\n"
   ]
  },
  {
   "cell_type": "markdown",
   "metadata": {},
   "source": [
    "### Load class list as input of the prompts"
   ]
  },
  {
   "cell_type": "code",
   "execution_count": 8,
   "metadata": {},
   "outputs": [],
   "source": [
    "# Load class list\n",
    "with open('../llm/class_list.json', 'r') as file:\n",
    "    class_list = json.load(file)"
   ]
  },
  {
   "cell_type": "markdown",
   "metadata": {},
   "source": [
    "### Set seed for reproducibility\n",
    "42 is moslty used as seed number and considered as the lucky number. "
   ]
  },
  {
   "cell_type": "code",
   "execution_count": 9,
   "metadata": {},
   "outputs": [],
   "source": [
    "seed = 42\n",
    "random.seed(seed)"
   ]
  },
  {
   "cell_type": "markdown",
   "metadata": {},
   "source": [
    "### Let's configuration the LLM model for the prompts generation"
   ]
  },
  {
   "cell_type": "code",
   "execution_count": 10,
   "metadata": {},
   "outputs": [],
   "source": [
    "# Initialize the prompt template and tokenizer\n",
    "prompt = \"\"\n",
    "prompt_template=f'''{prompt}'''\n",
    "\n",
    "tokens = tokenizer(\n",
    "    prompt_template,\n",
    "    return_tensors='pt'\n",
    ").input_ids.cuda()\n",
    "\n",
    "# Same as the \"self-rewarding language models\" paper\n",
    "generation_params = {\n",
    "    \"do_sample\": True,\n",
    "    \"temperature\": 0.7,\n",
    "    \"top_p\": 0.95,\n",
    "    \"top_k\": 40,\n",
    "    \"max_new_tokens\": 512,\n",
    "    \"repetition_penalty\": 1.1\n",
    "}\n",
    "\n",
    "# Using the text streamer to stream output one token at a time\n",
    "streamer = TextStreamer(tokenizer, skip_prompt=True, skip_special_tokens=True)\n",
    "\n",
    "# SYSTEM_PROMPT to instruct the model on specificities\n",
    "SYSTEM_PROMPT = \"<s>[SYS] Generate concise prompts for a text-to-image diffusion generator using stable diffusion. Focus on the specified class give specific details of the scene and avoid additional information, notes, suggestions and discussions.[/SYS]\"\n"
   ]
  },
  {
   "cell_type": "markdown",
   "metadata": {},
   "source": [
    "### Random selection of 4 classes for the test"
   ]
  },
  {
   "cell_type": "code",
   "execution_count": 11,
   "metadata": {},
   "outputs": [
    {
     "data": {
      "text/plain": [
       "['hair drier', 'truck', 'toaster', 'cup']"
      ]
     },
     "execution_count": 11,
     "metadata": {},
     "output_type": "execute_result"
    }
   ],
   "source": [
    "# Shuffle the classes to pick them randomly\n",
    "class_keys = list(class_list.keys())\n",
    "random.shuffle(class_keys)\n",
    "\n",
    "selected_classes_keys = random.sample(class_keys, 4)\n",
    "\n",
    "# Get the class names based on the selected keys\n",
    "selected_classes = [class_list[class_key] for class_key in selected_classes_keys]\n",
    "\n",
    "selected_classes"
   ]
  },
  {
   "cell_type": "markdown",
   "metadata": {},
   "source": [
    "5 prompts generation per selected class"
   ]
  },
  {
   "cell_type": "code",
   "execution_count": 12,
   "metadata": {},
   "outputs": [
    {
     "name": "stdout",
     "output_type": "stream",
     "text": [
      "\n",
      "hair drier\n",
      "\n",
      "1. A close-up image of an old, vintage hairdryer with a chrome body, a white button in the center, and a faded blue power cord coiled neatly at the bottom.\n",
      "\n",
      "2. A modern hairdrier with a sleek black design, a digital display screen showing temperature settings, and a long pink extension cord reaching towards an outlet.\n",
      "\n",
      "3. An image of a hand holding a small, compact travel hairdryer with a mint green exterior, two buttons, and a short white plug attached to it.\n",
      "\n",
      "4. A hairdryer with a unique shape – resembling a pinecone – in a bathroom setting, surrounded by steamy water droplets on a white tile floor, a towel hanging nearby, and a mirror reflecting the scene.\n",
      "\n",
      "5. A professional hair salon scene: A hairdresser holding a large, powerful hairdryer with multiple heat and speed settings, blowing hot air onto a client's freshly washed and conditioned hair while they sit in a styling chair, looking relaxed with their eyes closed.\n",
      "\n",
      "truck\n",
      "\n",
      "1. A red firetruck parked in front of a burning house. The hoses are connected to the hydrant, water streaming out. Smoke billows from the house's windows.\n",
      "\n",
      "2. A flatbed truck loaded with large bales of hay under a clear blue sky. The sun is setting, casting long shadows over the countryside. A farmer stands beside the truck, watching as the bales are carefully secured.\n",
      "\n",
      "3. A delivery truck, its side marked with the logo of a well-known company, parked at the curb. Boxes are stacked high in the back, some tied down with ropes. Passersby walk along the sidewalk, unaware.\n",
      "\n",
      "4. An old pickup truck sitting in the middle of a desert landscape. The engine is open, tools scattered around it. A man in worn jeans and a checkered shirt leans over the engine, wrench in hand. Cacti and sand surround the vehicle.\n",
      "\n",
      "5. A shiny, new flatbed truck is backed up to a dock, surrounded by crates and pallets. A forklift operator in a hard hat loads boxes onto the truck bed. Seagulls cry overhead, and waves crash against the shore in the background.\n",
      "\n",
      "toaster\n",
      "\n",
      "1. A toaster sitting on a modern kitchen countertop, with six slices of untoasted white bread inside, steam rising from the slots, and the cord plugged into an electric outlet.\n",
      "2. Close-up view of a vintage toaster with two slices of golden brown toast popping up, steam escaping from the top, and a plate nearby with butter waiting to be spread.\n",
      "3. Minimalist setting: Toaster in pristine stainless steel on an empty kitchen counter, one slice of black charred bread emerging, smoke gently dissipating.\n",
      "4. Scene: Breakfast table with a red toaster and two plates, one holding scrambled eggs, the other topped with two triangular slices of perfectly toasted bagels.\n",
      "5. Toaster on a camping site: Rustic scene, toaster over open fire, smoke swirling around, three pieces of dense whole grain bread toasting, and a kettle of water boiling for coffee.\n",
      "\n",
      "cup\n",
      "\n",
      "1. A white porcelain cup sits on a wooden table, steam rising from the tea within. The sun casts a warm golden light through the kitchen window, illuminating the intricate floral patterns on the cup's surface.\n",
      "\n",
      "2. A steel mug filled with steaming hot coffee rests on a rough, gray stone ledge overlooking a waterfall. Drips of condensation roll down the sides, creating tiny rainbows in the sunlight filtering through the forest canopy behind.\n",
      "\n",
      "3. A clear glass cup holds a cool lemonade on a red checkered picnic blanket under an apple tree. Sunlight filters through the branches, casting dappled shadows on the grassy floor, and a bee buzzes nearby.\n",
      "\n",
      "4. An antique silver teacup, adorned with gold leaf designs, sits on a black marble table in a grand ballroom. The cup is empty, but a faint aroma of freshly brewed tea lingers in the air, and a fine lace doily rests beside it.\n",
      "\n",
      "5. A quirky, hand-painted ceramic cup depicting a whimsical scene of underwater creatures sits on a blue tile countertop. Water droplets trickle off its edge, and a brightly colored fish swims among the fanciful illustrations.\n"
     ]
    }
   ],
   "source": [
    "for class_id in selected_classes_keys:\n",
    "    class_name = class_list[class_id]\n",
    "\n",
    "    # Combine SYSTEM_PROMPT and class-specific prompt\n",
    "    prompt = f\"{SYSTEM_PROMPT}<s>[INST] Give 5 distinct, simple and detailed scene prompts for a text-to-image diffusion generator using stable diffusion with a {class_name} [/INST]\"\n",
    "\n",
    "    tokens = tokenizer(\n",
    "        prompt,\n",
    "        return_tensors='pt'\n",
    "    ).input_ids.cuda()\n",
    "\n",
    "    print('\\n' + class_name + '\\n')\n",
    "    generation_output = model.generate(\n",
    "        tokens,\n",
    "        pad_token_id=tokenizer.eos_token_id,\n",
    "        streamer=streamer,\n",
    "        **generation_params\n",
    "    )"
   ]
  },
  {
   "cell_type": "code",
   "execution_count": null,
   "metadata": {},
   "outputs": [],
   "source": []
  }
 ],
 "metadata": {
  "kernelspec": {
   "display_name": "srt2i",
   "language": "python",
   "name": "python3"
  },
  "language_info": {
   "codemirror_mode": {
    "name": "ipython",
    "version": 3
   },
   "file_extension": ".py",
   "mimetype": "text/x-python",
   "name": "python",
   "nbconvert_exporter": "python",
   "pygments_lexer": "ipython3",
   "version": "3.10.13"
  }
 },
 "nbformat": 4,
 "nbformat_minor": 2
}
